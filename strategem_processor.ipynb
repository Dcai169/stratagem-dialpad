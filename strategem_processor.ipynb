{
 "cells": [
  {
   "cell_type": "code",
   "execution_count": 2,
   "metadata": {},
   "outputs": [],
   "source": [
    "import json\n",
    "from enum import Enum\n",
    "import re\n",
    "\n",
    "class Direction(Enum):\n",
    "    NONE = \"\"\n",
    "    UP = \"⬆\"\n",
    "    RIGHT = \"⮕\"\n",
    "    DOWN = \"⬇\"\n",
    "    LEFT = \"⬅\"\n",
    "    # UP = \"🡅\"\n",
    "    # RIGHT = \"🡆\"\n",
    "    # DOWN = \"🡇\"\n",
    "    # LEFT = \"🡄\"\n",
    "\n",
    "def parse_code_stroke(code):\n",
    "    if code == \"up\":\n",
    "        return Direction.UP.value\n",
    "    elif code == \"right\":\n",
    "        return Direction.RIGHT.value\n",
    "    elif code == \"down\":\n",
    "        return Direction.DOWN.value\n",
    "    elif code == \"left\":\n",
    "        return Direction.LEFT.value\n",
    "    else:\n",
    "        raise ValueError()\n",
    "    \n",
    "strategems = {}\n",
    "\n",
    "with open('stratagems.ts') as f:\n",
    "    for line in f.readlines()[3:-2]:\n",
    "        if \"new Stratagem\" in line[:-1]:\n",
    "            name = line[:-1].split(\"'\", 2)[1]\n",
    "            code = \"\".join([parse_code_stroke(c.strip()) for c in line[:-1].split(\"[\")[1].split(\"]\")[0].replace(\"'\", \"\").split(\",\")])\n",
    "            icon = line[:-1].split(']')[1].split(\",\")[1].replace(\"'\", \"\").strip()\n",
    "            \n",
    "            strategems[code] = {\n",
    "                \"name\": name,\n",
    "                \"icon\": icon\n",
    "            }\n",
    "\n",
    "            # print(code, name, icon)\n",
    "\n",
    "with open('sequences.json', 'w') as f:\n",
    "    json.dump(strategems, f)"
   ]
  },
  {
   "cell_type": "code",
   "execution_count": 4,
   "metadata": {},
   "outputs": [],
   "source": []
  },
  {
   "cell_type": "code",
   "execution_count": null,
   "metadata": {},
   "outputs": [],
   "source": []
  }
 ],
 "metadata": {
  "kernelspec": {
   "display_name": "venv",
   "language": "python",
   "name": "python3"
  },
  "language_info": {
   "codemirror_mode": {
    "name": "ipython",
    "version": 3
   },
   "file_extension": ".py",
   "mimetype": "text/x-python",
   "name": "python",
   "nbconvert_exporter": "python",
   "pygments_lexer": "ipython3",
   "version": "3.9.6"
  },
  "orig_nbformat": 4
 },
 "nbformat": 4,
 "nbformat_minor": 2
}
